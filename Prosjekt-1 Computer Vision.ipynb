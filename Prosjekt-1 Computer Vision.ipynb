{
 "cells": [
  {
   "cell_type": "code",
   "execution_count": 13,
   "id": "c5834d19",
   "metadata": {},
   "outputs": [],
   "source": [
    "import numpy as np\n",
    "import skimage.draw as draw"
   ]
  },
  {
   "cell_type": "code",
   "execution_count": 14,
   "id": "02610b8b",
   "metadata": {},
   "outputs": [],
   "source": [
    "def my_imfilter(image,filter):\n",
    "     \n",
    "    if filter.shape[0] % 2 == 0 or filter.shape[1] % 2 == 0:\n",
    "        return\n",
    "    \n",
    "    filter_size = filter.shape\n",
    "    ##Create pad image\n",
    "    pad_size = [int(np.floor(x/2)) for x in filter_size]\n",
    "    filtered_image = np.empty(image.shape)\n",
    "    pad_image = np.lib.pad(image, ((pad_size[0],),(pad_size[1],),(0,)), 'symmetric')\n",
    "\n",
    "\n",
    "    if(image.shape[2] == 1):\n",
    "        for i in range(0, filtered_image.shape[0]):\n",
    "            for j in range(0, filtered_image.shape[1]):\n",
    "                window = pad_image[i:i+filter_size[0], j:j+filter_size[1]]\n",
    "                filtered_image[i][j] = np.sum(np.multiply(window, filter))\n",
    "\n",
    "        return filtered_image\n",
    "\n",
    "    else:\n",
    "        filter = filter.reshape((filter_size[0],filter_size[1],1))\n",
    "        for i in range(0, filtered_image.shape[0]):\n",
    "            for j in range(0, filtered_image.shape[1]):\n",
    "                window = pad_image[i:i+filter_size[0], j:j+filter_size[1],:]\n",
    "                filtered_image[i:i+1, j:j+1, :]= np.sum(np.multiply(window, filter), axis=(0,1))\n",
    "        return filtered_image\n"
   ]
  },
  {
   "cell_type": "code",
   "execution_count": 15,
   "id": "64751423",
   "metadata": {},
   "outputs": [],
   "source": [
    "def create_hybrid_image(image1, image2, filter):\n",
    "    assert image1.shape[0] == image2.shape[0]    \n",
    "    assert image1.shape[1] == image2.shape[1]\n",
    "    assert image1.shape[2] == image2.shape[2]\n",
    "\n",
    "\n",
    "    low_frequencies = my_imfilter(image1, filter)\n",
    "    high_frequencies = image2 - my_imfilter(image2, filter)\n",
    "    img = low_frequencies + high_frequencies\n",
    "    hybrid_image = np.clip(img,0,1)\n",
    "\n",
    "    return low_frequencies, high_frequencies,hybrid_image\n"
   ]
  },
  {
   "cell_type": "code",
   "execution_count": 16,
   "id": "1f91a980",
   "metadata": {},
   "outputs": [],
   "source": [
    "\n",
    "def combine(image1, image2):\n",
    "    assert image1.shape[0] == image2.shape[0]    \n",
    "    assert image1.shape[1] == image2.shape[1]\n",
    "    assert image1.shape[2] == image2.shape[2]\n",
    "    \n",
    "    for i in range(0, image1.shape[0]):\n",
    "        image1[:, :, i] = np.fft.fftshift(np.fft.fft2(image1[:, :, i]))\n",
    "        image2[:, :, i] = np.fft.fftshift(np.fft.fft2(image2[:, :, i]))\n",
    "        \n",
    "    d1h, d1s = draw.draw.disk((image1.shape[0], image1.shape[1]), 12)\n",
    "    d2h, d2s = draw.draw.disk((image2.shape[0], image2.shape[1]), 8)\n",
    "    \n",
    "    disk1 = getGausian(image1.shape[0], image1.shape[1],12)\n",
    "    disk2 = getGausian(image2.shape[0], image2.shape[1],9)\n",
    "    \n",
    "    #disk1[d1h, d1s] = 1\n",
    "    #disk2[d2h, d2s] = 1\n",
    "    disk2 = 1 - disk2\n",
    "     \n",
    "    \n",
    "    for i in range(0, image1.shape[0]):\n",
    "        image1[:, :, i] = image1[:, :, i] * disk1\n",
    "        image2[:, :, i] = image2[:, :, i] * disk2\n",
    "\n",
    "        \n",
    "    for i in range(0, image1.shape[0]):\n",
    "        image1[:, :, i] = np.fft.ifft2(np.fft.ifftshift(image1[:, :, i]))\n",
    "        image2[:, :, i] = np.fft.ifft2(np.fft.ifftshift(image2[:, :, i]))\n",
    "\n",
    "    return image1 + image2\n",
    "    \n",
    "    "
   ]
  },
  {
   "cell_type": "code",
   "execution_count": 17,
   "id": "f51958b5",
   "metadata": {},
   "outputs": [],
   "source": [
    "def getGausian(x, y, sig=1):\n",
    "    \n",
    "    assert y % 2 == 1\n",
    "    assert x % 2 == 1\n",
    "    \n",
    "    xs = np.linspace(-(x-1)/2, (x-1)/2, x)\n",
    "    ys = np.linspace(-(y-1)/2, (y-1)/2, y)\n",
    "    \n",
    "    gausX = 1 / np.sqrt(2*np.pi*sig) *np.exp(-(xs**2)/(2*sig**2))\n",
    "    gausY = 1 / np.sqrt(2*np.pi*sig) *np.exp(-(ys**2)/(2*sig**2))\n",
    "    \n",
    "    myGausian = np.outer(gausX, gausY)\n",
    "    \n",
    "    return myGausian / np.max(myGausian)\n",
    "    "
   ]
  },
  {
   "cell_type": "code",
   "execution_count": 18,
   "id": "25cd9399",
   "metadata": {},
   "outputs": [
    {
     "name": "stdout",
     "output_type": "stream",
     "text": [
      "[[0.10539922 0.19691168 0.2865048  0.32465247 0.2865048  0.19691168\n",
      "  0.10539922]\n",
      " [0.19691168 0.36787944 0.53526143 0.60653066 0.53526143 0.36787944\n",
      "  0.19691168]\n",
      " [0.2865048  0.53526143 0.77880078 0.8824969  0.77880078 0.53526143\n",
      "  0.2865048 ]\n",
      " [0.32465247 0.60653066 0.8824969  1.         0.8824969  0.60653066\n",
      "  0.32465247]\n",
      " [0.2865048  0.53526143 0.77880078 0.8824969  0.77880078 0.53526143\n",
      "  0.2865048 ]\n",
      " [0.19691168 0.36787944 0.53526143 0.60653066 0.53526143 0.36787944\n",
      "  0.19691168]\n",
      " [0.10539922 0.19691168 0.2865048  0.32465247 0.2865048  0.19691168\n",
      "  0.10539922]]\n"
     ]
    }
   ],
   "source": [
    "print(getGausian(7, 7, 2))"
   ]
  },
  {
   "cell_type": "code",
   "execution_count": 13,
   "id": "f9e42cbd",
   "metadata": {},
   "outputs": [
    {
     "data": {
      "image/png": "[encoded data removed]",
      "text/plain": [
       "<Figure size 432x288 with 1 Axes>"
      ]
     },
     "metadata": {
      "needs_background": "light"
     },
     "output_type": "display_data"
    }
   ],
   "source": [
    "import matplotlib.pyplot as plt\n",
    "import skimage.data as data\n",
    "plt.imshow(my_imfilter(data.chelsea().astype(np.float32), getGausian(3, 3, 1)) / 255)\n",
    "plt.show()"
   ]
  },
  {
   "cell_type": "code",
   "execution_count": null,
   "id": "45943de6",
   "metadata": {},
   "outputs": [],
   "source": []
  },
  {
   "cell_type": "code",
   "execution_count": null,
   "id": "d79d848c",
   "metadata": {},
   "outputs": [],
   "source": []
  }
 ],
 "metadata": {
  "kernelspec": {
   "display_name": "Python 3 (ipykernel)",
   "language": "python",
   "name": "python3"
  },
  "language_info": {
   "codemirror_mode": {
    "name": "ipython",
    "version": 3
   },
   "file_extension": ".py",
   "mimetype": "text/x-python",
   "name": "python",
   "nbconvert_exporter": "python",
   "pygments_lexer": "ipython3",
   "version": "3.9.12"
  }
 },
 "nbformat": 4,
 "nbformat_minor": 5
}
